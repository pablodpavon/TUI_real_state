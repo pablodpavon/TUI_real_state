{
 "cells": [
  {
   "cell_type": "markdown",
   "id": "cf1ac58f",
   "metadata": {},
   "source": [
    "# GOAL"
   ]
  },
  {
   "cell_type": "markdown",
   "id": "90103877",
   "metadata": {},
   "source": [
    "Locate the profile (or profiles) of properties that maximize commercial potential in the tourist rental market and the main areas where to look for them."
   ]
  },
  {
   "cell_type": "markdown",
   "id": "db181f74",
   "metadata": {},
   "source": [
    "# BUSINESS LEVERS"
   ]
  },
  {
   "cell_type": "markdown",
   "id": "820876f4",
   "metadata": {},
   "source": [
    "* Rental price: the more you can charge per night, the higher the profitability\n",
    "* Occupation: in general, the more days a year a property can be rented, the greater the profitability is\n",
    "* Real estate price: the cheaper the property can be acquired, the greater the profitability will be"
   ]
  },
  {
   "cell_type": "markdown",
   "id": "316d1aef",
   "metadata": {},
   "source": [
    "# KPI's"
   ]
  },
  {
   "cell_type": "markdown",
   "id": "bcd6e45b",
   "metadata": {},
   "source": [
    "* We will measure occupancy as the number of days per year that the property can be rented\n",
    "* We will measure the rental price as the price per night in euros according to Airbnb\n",
    "* We will measure the price of a property as the multiplication between the number of square meters and the average price per m2 in your area, and we will apply a 15% discount on the official price due to the negotiation strength of our purchasing team."
   ]
  },
  {
   "cell_type": "markdown",
   "id": "676afa29",
   "metadata": {},
   "source": [
    "# DATA\n"
   ]
  },
  {
   "cell_type": "markdown",
   "id": "a34fe51b",
   "metadata": {},
   "source": [
    "* Real Estate\n",
    "* Owners\n",
    "* Districts"
   ]
  },
  {
   "cell_type": "markdown",
   "id": "bdec6e21",
   "metadata": {},
   "source": [
    "# SEED QUESTIONS"
   ]
  },
  {
   "cell_type": "markdown",
   "id": "06b518e1",
   "metadata": {},
   "source": [
    "About the rental price\n",
    "\n",
    "* What is the average price? And the price range? And by districts? And by neighborhoods?\n",
    "* What is the ranking of districts and neighborhoods by average rental price?\n",
    "* What factors (apart from location) determine the rental price?\n",
    "* What is the relationship between the size of the property and the price for which it can be rented?\n",
    "* How does the competition (number of properties available per neighborhood) influence the rental price?\n",
    "* How do the prices vary by rental type (entire flat, private room, shared room)?\n",
    "\n",
    "About the occupation:\n",
    "\n",
    "* What is the average occupancy? And by districts? And by neighborhoods?\n",
    "* How likely is each occupancy level in each district?\n",
    "* What is the ranking of districts and neighborhoods by occupation?\n",
    "* What factors (aside from location) determine occupancy?\n",
    "* What is the relationship between the size of the property and its degree of occupancy?\n",
    "* How does competition (number of properties available per neighborhood) influence occupancy?\n",
    "\n",
    "About the purchase price:\n",
    "\n",
    "* What is the price ranking per m2 by district?\n",
    "* What is the property price ranking (m2 * average size) by district?\n",
    "* What is the relationship between the price of the property and the rental price by district?\n",
    "* What is the relationship between the price of the property and the occupation by district?"
   ]
  }
 ],
 "metadata": {
  "kernelspec": {
   "display_name": "Python 3 (ipykernel)",
   "language": "python",
   "name": "python3"
  },
  "language_info": {
   "codemirror_mode": {
    "name": "ipython",
    "version": 3
   },
   "file_extension": ".py",
   "mimetype": "text/x-python",
   "name": "python",
   "nbconvert_exporter": "python",
   "pygments_lexer": "ipython3",
   "version": "3.9.12"
  },
  "toc": {
   "base_numbering": 1,
   "nav_menu": {},
   "number_sections": true,
   "sideBar": true,
   "skip_h1_title": false,
   "title_cell": "Table of Contents",
   "title_sidebar": "Contents",
   "toc_cell": false,
   "toc_position": {},
   "toc_section_display": true,
   "toc_window_display": false
  },
  "varInspector": {
   "cols": {
    "lenName": 16,
    "lenType": 16,
    "lenVar": 40
   },
   "kernels_config": {
    "python": {
     "delete_cmd_postfix": "",
     "delete_cmd_prefix": "del ",
     "library": "var_list.py",
     "varRefreshCmd": "print(var_dic_list())"
    },
    "r": {
     "delete_cmd_postfix": ") ",
     "delete_cmd_prefix": "rm(",
     "library": "var_list.r",
     "varRefreshCmd": "cat(var_dic_list()) "
    }
   },
   "types_to_exclude": [
    "module",
    "function",
    "builtin_function_or_method",
    "instance",
    "_Feature"
   ],
   "window_display": false
  }
 },
 "nbformat": 4,
 "nbformat_minor": 5
}
